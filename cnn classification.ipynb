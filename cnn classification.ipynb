{
 "metadata": {
  "kernelspec": {
   "language": "python",
   "display_name": "Python 3",
   "name": "python3"
  },
  "language_info": {
   "pygments_lexer": "ipython3",
   "nbconvert_exporter": "python",
   "version": "3.6.4",
   "file_extension": ".py",
   "codemirror_mode": {
    "name": "ipython",
    "version": 3
   },
   "name": "python",
   "mimetype": "text/x-python"
  }
 },
 "nbformat_minor": 4,
 "nbformat": 4,
 "cells": [
  {
   "cell_type": "code",
   "source": [
    "# This Python 3 environment comes with many helpful analytics libraries installed\n",
    "# It is defined by the kaggle/python Docker image: https://github.com/kaggle/docker-python\n",
    "# For example, here's several helpful packages to load\n",
    "\n",
    "import numpy as np # linear algebra\n",
    "import pandas as pd # data processing, CSV file I/O (e.g. pd.read_csv)\n",
    "\n",
    "# Input data files are available in the read-only \"../input/\" directory\n",
    "# For example, running this (by clicking run or pressing Shift+Enter) will list all files under the input directory\n",
    "\n",
    "import os\n",
    "for dirname, _, filenames in os.walk('/kaggle/input'):\n",
    "    for filename in filenames:\n",
    "        print(os.path.join(dirname, filename))\n",
    "        break\n",
    "        \n",
    "\n",
    "# You can write up to 20GB to the current directory (/kaggle/working/) that gets preserved as output when you create a version using \"Save & Run All\" \n",
    "# You can also write temporary files to /kaggle/temp/, but they won't be saved outside of the current session"
   ],
   "metadata": {
    "_uuid": "8f2839f25d086af736a60e9eeb907d3b93b6e0e5",
    "_cell_guid": "b1076dfc-b9ad-4769-8c92-a6c4dae69d19",
    "execution": {
     "iopub.status.busy": "2023-10-02T09:05:56.51185Z",
     "iopub.execute_input": "2023-10-02T09:05:56.512269Z",
     "iopub.status.idle": "2023-10-02T09:05:57.326006Z",
     "shell.execute_reply.started": "2023-10-02T09:05:56.512219Z",
     "shell.execute_reply": "2023-10-02T09:05:57.324785Z"
    },
    "trusted": true
   },
   "execution_count": null,
   "outputs": []
  },
  {
   "cell_type": "markdown",
   "source": [
    "## Import Libraries"
   ],
   "metadata": {}
  },
  {
   "cell_type": "code",
   "source": [
    "import warnings\n",
    "warnings.filterwarnings('ignore')\n",
    "\n",
    "import os\n",
    "import pandas as pd\n",
    "import numpy as np\n",
    "import matplotlib.pyplot as plt\n",
    "%matplotlib inline\n",
    "from sklearn.metrics import classification_report , confusion_matrix , accuracy_score\n",
    "from sklearn.model_selection import train_test_split\n",
    "\n",
    "import cv2\n",
    "#from google.colab.patches import cv2_imshow\n",
    "from PIL import Image \n",
    "import tensorflow as tf\n",
    "from tensorflow import keras\n",
    "from keras import Sequential\n",
    "from keras.layers import Input, Dense,Conv2D , MaxPooling2D, Flatten,BatchNormalization,Dropout\n",
    "from tensorflow.keras.preprocessing import image_dataset_from_directory\n",
    "import tensorflow_hub as hub "
   ],
   "metadata": {
    "execution": {
     "iopub.status.busy": "2023-10-02T12:21:23.65433Z",
     "iopub.execute_input": "2023-10-02T12:21:23.654557Z",
     "iopub.status.idle": "2023-10-02T12:21:34.13344Z",
     "shell.execute_reply.started": "2023-10-02T12:21:23.654535Z",
     "shell.execute_reply": "2023-10-02T12:21:34.132408Z"
    },
    "trusted": true
   },
   "execution_count": null,
   "outputs": []
  },
  {
   "cell_type": "markdown",
   "source": [
    "## Data Collection"
   ],
   "metadata": {}
  },
  {
   "cell_type": "code",
   "source": [
    "train_path = \"/kaggle/input/brain-tumor-classification-mri/Training\"\n",
    "test_path = \"/kaggle/input/brain-tumor-classification-mri/Testing\"\n",
    "\n",
    "gl_tr = \"/kaggle/input/brain-tumor-classification-mri/Training/glioma_tumor\"\n",
    "men_tr = \"/kaggle/input/brain-tumor-classification-mri/Training/meningioma_tumor\"\n",
    "no_tr = \"/kaggle/input/brain-tumor-classification-mri/Training/no_tumor\"\n",
    "pit_tr = \"/kaggle/input/brain-tumor-classification-mri/Training/pituitary_tumor\"\n",
    "\n",
    "\n",
    "gl_ts = \"/kaggle/input/brain-tumor-classification-mri/Testing/glioma_tumor\"\n",
    "men_ts = \"/kaggle/input/brain-tumor-classification-mri/Testing/meningioma_tumor\"\n",
    "no_ts = \"/kaggle/input/brain-tumor-classification-mri/Testing/no_tumor\"\n",
    "pit_ts = \"/kaggle/input/brain-tumor-classification-mri/Testing/pituitary_tumor\"\n",
    "\n",
    "gl_tr = os.listdir(gl_tr)\n",
    "men_tr = os.listdir(men_tr)\n",
    "no_tr = os.listdir(no_tr)\n",
    "pit_tr = os.listdir(pit_tr)\n",
    "\n",
    "gl_ts = os.listdir(gl_ts)\n",
    "men_ts = os.listdir(men_ts)\n",
    "no_ts = os.listdir(no_ts)\n",
    "pit_ts = os.listdir(pit_ts)"
   ],
   "metadata": {
    "execution": {
     "iopub.status.busy": "2023-10-02T12:21:34.135264Z",
     "iopub.execute_input": "2023-10-02T12:21:34.135926Z",
     "iopub.status.idle": "2023-10-02T12:21:34.740532Z",
     "shell.execute_reply.started": "2023-10-02T12:21:34.13589Z",
     "shell.execute_reply": "2023-10-02T12:21:34.739529Z"
    },
    "trusted": true
   },
   "execution_count": null,
   "outputs": []
  },
  {
   "cell_type": "code",
   "source": [
    "print(len(gl_tr))\n",
    "print(len(men_tr))\n",
    "print(len(no_tr))\n",
    "print(len(pit_tr))"
   ],
   "metadata": {
    "execution": {
     "iopub.status.busy": "2023-10-02T12:21:34.741926Z",
     "iopub.execute_input": "2023-10-02T12:21:34.742249Z",
     "iopub.status.idle": "2023-10-02T12:21:34.749976Z",
     "shell.execute_reply.started": "2023-10-02T12:21:34.742218Z",
     "shell.execute_reply": "2023-10-02T12:21:34.748834Z"
    },
    "trusted": true
   },
   "execution_count": null,
   "outputs": []
  },
  {
   "cell_type": "code",
   "source": [
    "print(len(gl_ts))\n",
    "print(len(men_ts))\n",
    "print(len(no_ts))\n",
    "print(len(pit_ts))"
   ],
   "metadata": {
    "execution": {
     "iopub.status.busy": "2023-10-02T12:21:34.75219Z",
     "iopub.execute_input": "2023-10-02T12:21:34.752804Z",
     "iopub.status.idle": "2023-10-02T12:21:34.759296Z",
     "shell.execute_reply.started": "2023-10-02T12:21:34.752756Z",
     "shell.execute_reply": "2023-10-02T12:21:34.758412Z"
    },
    "trusted": true
   },
   "execution_count": null,
   "outputs": []
  },
  {
   "cell_type": "markdown",
   "source": [
    "## Class Labels"
   ],
   "metadata": {}
  },
  {
   "cell_type": "code",
   "source": [
    "gl_tr_label = [0]*len(gl_tr)\n",
    "men_tr_label = [1]*len(men_tr)\n",
    "no_tr_label = [2]*len(no_tr)\n",
    "pit_tr_label = [3]*len(pit_tr)\n",
    "\n",
    "gl_ts_label = [0]*len(gl_ts)\n",
    "men_ts_label = [1]*len(men_ts)\n",
    "no_ts_label = [2]*len(no_ts)\n",
    "pit_ts_label = [3]*len(pit_ts)"
   ],
   "metadata": {
    "execution": {
     "iopub.status.busy": "2023-10-02T12:21:51.943281Z",
     "iopub.execute_input": "2023-10-02T12:21:51.943604Z",
     "iopub.status.idle": "2023-10-02T12:21:51.949083Z",
     "shell.execute_reply.started": "2023-10-02T12:21:51.943576Z",
     "shell.execute_reply": "2023-10-02T12:21:51.947798Z"
    },
    "trusted": true
   },
   "execution_count": null,
   "outputs": []
  },
  {
   "cell_type": "code",
   "source": [
    "train_label = gl_tr_label + men_tr_label + no_tr_label + pit_tr_label\n",
    "test_label = gl_ts_label + men_ts_label + no_ts_label + pit_ts_label"
   ],
   "metadata": {
    "execution": {
     "iopub.status.busy": "2023-10-02T12:21:51.950946Z",
     "iopub.execute_input": "2023-10-02T12:21:51.951545Z",
     "iopub.status.idle": "2023-10-02T12:21:51.964909Z",
     "shell.execute_reply.started": "2023-10-02T12:21:51.951508Z",
     "shell.execute_reply": "2023-10-02T12:21:51.963757Z"
    },
    "trusted": true
   },
   "execution_count": null,
   "outputs": []
  },
  {
   "cell_type": "code",
   "source": [
    "print(len(train_label))\n",
    "print(len(test_label))"
   ],
   "metadata": {
    "execution": {
     "iopub.status.busy": "2023-10-02T12:21:53.510676Z",
     "iopub.execute_input": "2023-10-02T12:21:53.511318Z",
     "iopub.status.idle": "2023-10-02T12:21:53.516892Z",
     "shell.execute_reply.started": "2023-10-02T12:21:53.511286Z",
     "shell.execute_reply": "2023-10-02T12:21:53.515661Z"
    },
    "trusted": true
   },
   "execution_count": null,
   "outputs": []
  },
  {
   "cell_type": "code",
   "source": [
    "train_label[:4]"
   ],
   "metadata": {
    "execution": {
     "iopub.status.busy": "2023-10-02T12:21:53.53318Z",
     "iopub.execute_input": "2023-10-02T12:21:53.53372Z",
     "iopub.status.idle": "2023-10-02T12:21:53.540414Z",
     "shell.execute_reply.started": "2023-10-02T12:21:53.533689Z",
     "shell.execute_reply": "2023-10-02T12:21:53.539421Z"
    },
    "trusted": true
   },
   "execution_count": null,
   "outputs": []
  },
  {
   "cell_type": "code",
   "source": [
    "test_label[-5:]"
   ],
   "metadata": {
    "execution": {
     "iopub.status.busy": "2023-10-02T12:21:57.353407Z",
     "iopub.execute_input": "2023-10-02T12:21:57.354228Z",
     "iopub.status.idle": "2023-10-02T12:21:57.360492Z",
     "shell.execute_reply.started": "2023-10-02T12:21:57.354196Z",
     "shell.execute_reply": "2023-10-02T12:21:57.359498Z"
    },
    "trusted": true
   },
   "execution_count": null,
   "outputs": []
  },
  {
   "cell_type": "code",
   "source": [
    "class_labels = ['glioma_tumor', 'meningioma_tumor', 'no_tumor', 'pituitary_tumor']"
   ],
   "metadata": {
    "execution": {
     "iopub.status.busy": "2023-10-02T12:21:57.362534Z",
     "iopub.execute_input": "2023-10-02T12:21:57.363737Z",
     "iopub.status.idle": "2023-10-02T12:21:57.369899Z",
     "shell.execute_reply.started": "2023-10-02T12:21:57.363701Z",
     "shell.execute_reply": "2023-10-02T12:21:57.368928Z"
    },
    "trusted": true
   },
   "execution_count": null,
   "outputs": []
  },
  {
   "cell_type": "code",
   "source": [
    "label = train_label + test_label\n",
    "len(label)"
   ],
   "metadata": {
    "execution": {
     "iopub.status.busy": "2023-10-02T12:21:57.371089Z",
     "iopub.execute_input": "2023-10-02T12:21:57.371948Z",
     "iopub.status.idle": "2023-10-02T12:21:57.38345Z",
     "shell.execute_reply.started": "2023-10-02T12:21:57.371924Z",
     "shell.execute_reply": "2023-10-02T12:21:57.382618Z"
    },
    "trusted": true
   },
   "execution_count": null,
   "outputs": []
  },
  {
   "cell_type": "code",
   "source": [
    "y = np.array(label)"
   ],
   "metadata": {
    "execution": {
     "iopub.status.busy": "2023-10-02T12:21:58.950807Z",
     "iopub.execute_input": "2023-10-02T12:21:58.951125Z",
     "iopub.status.idle": "2023-10-02T12:21:58.955873Z",
     "shell.execute_reply.started": "2023-10-02T12:21:58.951098Z",
     "shell.execute_reply": "2023-10-02T12:21:58.954468Z"
    },
    "trusted": true
   },
   "execution_count": null,
   "outputs": []
  },
  {
   "cell_type": "code",
   "source": [
    "y"
   ],
   "metadata": {
    "execution": {
     "iopub.status.busy": "2023-10-02T12:21:58.958024Z",
     "iopub.execute_input": "2023-10-02T12:21:58.958636Z",
     "iopub.status.idle": "2023-10-02T12:21:58.972875Z",
     "shell.execute_reply.started": "2023-10-02T12:21:58.958604Z",
     "shell.execute_reply": "2023-10-02T12:21:58.97184Z"
    },
    "trusted": true
   },
   "execution_count": null,
   "outputs": []
  },
  {
   "cell_type": "markdown",
   "source": [
    "## Images Data"
   ],
   "metadata": {}
  },
  {
   "cell_type": "code",
   "source": [
    "# gl_tr = \"/kaggle/input/brain-tumor-classification-mri/Training/glioma_tumor\"\n",
    "# men_tr = \"/kaggle/input/brain-tumor-classification-mri/Training/meningioma_tumor\"\n",
    "# no_tr = \"/kaggle/input/brain-tumor-classification-mri/Training/no_tumor\"\n",
    "# pit_tr = \"/kaggle/input/brain-tumor-classification-mri/Training/pituitary_tumor\"\n",
    "\n",
    "\n",
    "# gl_ts = \"/kaggle/input/brain-tumor-classification-mri/Testing/glioma_tumor\"\n",
    "# men_ts = \"/kaggle/input/brain-tumor-classification-mri/Testing/meningioma_tumor\"\n",
    "# no_ts = \"/kaggle/input/brain-tumor-classification-mri/Testing/no_tumor\"\n",
    "# pit_ts = \"/kaggle/input/brain-tumor-classification-mri/Testing/pituitary_tumor\"\n",
    "\n",
    "data = []\n",
    "\n",
    "## For Training Data\n",
    "for img_file in gl_tr:\n",
    "    image = Image.open(\"/kaggle/input/brain-tumor-classification-mri/Training/glioma_tumor/\"+img_file)\n",
    "    image = image.resize((224,224))\n",
    "    image = np.array(image)\n",
    "    data.append(image)\n",
    "    \n",
    "for img_file in men_tr:\n",
    "    image = Image.open(\"/kaggle/input/brain-tumor-classification-mri/Training/meningioma_tumor/\"+img_file)\n",
    "    image = image.resize((224,224))\n",
    "    image = np.array(image)\n",
    "    data.append(image)\n",
    "    \n",
    "for img_file in no_tr:\n",
    "    image = Image.open(\"/kaggle/input/brain-tumor-classification-mri/Training/no_tumor/\"+img_file)\n",
    "    image = image.resize((224,224))\n",
    "    image = np.array(image)\n",
    "    data.append(image)\n",
    "    \n",
    "for img_file in pit_tr:\n",
    "    image = Image.open(\"/kaggle/input/brain-tumor-classification-mri/Training/pituitary_tumor/\"+img_file)\n",
    "    image = image.resize((224,224))\n",
    "    image = np.array(image)\n",
    "    data.append(image)\n",
    "    \n",
    "    \n",
    "## For Testing Data\n",
    "    \n",
    "for img_file in gl_ts:\n",
    "    image = Image.open(\"/kaggle/input/brain-tumor-classification-mri/Testing/glioma_tumor/\"+img_file)\n",
    "    image = image.resize((224,224))\n",
    "    image = np.array(image)\n",
    "    data.append(image)\n",
    "    \n",
    "for img_file in men_ts:\n",
    "    image = Image.open(\"/kaggle/input/brain-tumor-classification-mri/Testing/meningioma_tumor/\"+img_file)\n",
    "    image = image.resize((224,224))\n",
    "    image = np.array(image)\n",
    "    data.append(image)\n",
    "    \n",
    "for img_file in no_ts:\n",
    "    image = Image.open(\"/kaggle/input/brain-tumor-classification-mri/Testing/no_tumor/\"+img_file)\n",
    "    image = image.resize((224,224))\n",
    "    image = np.array(image)\n",
    "    data.append(image)\n",
    "    \n",
    "for img_file in pit_ts:\n",
    "    image = Image.open(\"/kaggle/input/brain-tumor-classification-mri/Testing/pituitary_tumor/\"+img_file)\n",
    "    image = image.resize((224,224))\n",
    "    image = np.array(image)\n",
    "    data.append(image)"
   ],
   "metadata": {
    "execution": {
     "iopub.status.busy": "2023-10-02T12:22:08.195896Z",
     "iopub.execute_input": "2023-10-02T12:22:08.196222Z",
     "iopub.status.idle": "2023-10-02T12:22:37.984257Z",
     "shell.execute_reply.started": "2023-10-02T12:22:08.196194Z",
     "shell.execute_reply": "2023-10-02T12:22:37.983224Z"
    },
    "trusted": true
   },
   "execution_count": null,
   "outputs": []
  },
  {
   "cell_type": "code",
   "source": [
    "x = np.array(data)"
   ],
   "metadata": {
    "execution": {
     "iopub.status.busy": "2023-10-02T12:22:37.986252Z",
     "iopub.execute_input": "2023-10-02T12:22:37.986884Z",
     "iopub.status.idle": "2023-10-02T12:22:38.142613Z",
     "shell.execute_reply.started": "2023-10-02T12:22:37.986849Z",
     "shell.execute_reply": "2023-10-02T12:22:38.141655Z"
    },
    "trusted": true
   },
   "execution_count": null,
   "outputs": []
  },
  {
   "cell_type": "code",
   "source": [
    "x[0]"
   ],
   "metadata": {
    "execution": {
     "iopub.status.busy": "2023-10-02T10:28:46.390471Z",
     "iopub.execute_input": "2023-10-02T10:28:46.391097Z",
     "iopub.status.idle": "2023-10-02T10:28:46.399623Z",
     "shell.execute_reply.started": "2023-10-02T10:28:46.391064Z",
     "shell.execute_reply": "2023-10-02T10:28:46.398426Z"
    },
    "trusted": true
   },
   "execution_count": null,
   "outputs": []
  },
  {
   "cell_type": "code",
   "source": [
    "print(x.shape)\n",
    "print(y.shape)"
   ],
   "metadata": {
    "execution": {
     "iopub.status.busy": "2023-10-02T10:28:46.403025Z",
     "iopub.execute_input": "2023-10-02T10:28:46.403777Z",
     "iopub.status.idle": "2023-10-02T10:28:46.409326Z",
     "shell.execute_reply.started": "2023-10-02T10:28:46.403744Z",
     "shell.execute_reply": "2023-10-02T10:28:46.408156Z"
    },
    "trusted": true
   },
   "execution_count": null,
   "outputs": []
  },
  {
   "cell_type": "markdown",
   "source": [
    "## Split The Data"
   ],
   "metadata": {}
  },
  {
   "cell_type": "code",
   "source": [
    "x_train,x_test,y_train,y_test = train_test_split(x,y,test_size=0.10,shuffle=True)\n",
    "print(x_train.shape)\n",
    "print(x_test.shape)\n",
    "print(y_train.shape)\n",
    "print(y_test.shape)"
   ],
   "metadata": {
    "execution": {
     "iopub.status.busy": "2023-10-02T12:22:38.144616Z",
     "iopub.execute_input": "2023-10-02T12:22:38.14498Z",
     "iopub.status.idle": "2023-10-02T12:22:38.298303Z",
     "shell.execute_reply.started": "2023-10-02T12:22:38.144947Z",
     "shell.execute_reply": "2023-10-02T12:22:38.297375Z"
    },
    "trusted": true
   },
   "execution_count": null,
   "outputs": []
  },
  {
   "cell_type": "markdown",
   "source": [
    "## Train Data Image Visualization"
   ],
   "metadata": {}
  },
  {
   "cell_type": "code",
   "source": [
    "plt.figure(figsize=(16,20))\n",
    "for i in range(0,20):\n",
    "    plt.subplot(5,4,i+1)\n",
    "    plt.imshow(x_train[i])\n",
    "    plt.title(f\"Label:{class_labels[y_train[i]]}\")\n",
    "    plt.axis(\"off\")"
   ],
   "metadata": {
    "execution": {
     "iopub.status.busy": "2023-10-02T10:10:12.511384Z",
     "iopub.execute_input": "2023-10-02T10:10:12.512141Z",
     "iopub.status.idle": "2023-10-02T10:10:15.518259Z",
     "shell.execute_reply.started": "2023-10-02T10:10:12.512101Z",
     "shell.execute_reply": "2023-10-02T10:10:15.516731Z"
    },
    "trusted": true
   },
   "execution_count": null,
   "outputs": []
  },
  {
   "cell_type": "markdown",
   "source": [
    "## Scale The Data"
   ],
   "metadata": {}
  },
  {
   "cell_type": "code",
   "source": [
    "x_train_scaled = x_train/255\n",
    "x_test_scaled = x_test/255"
   ],
   "metadata": {
    "execution": {
     "iopub.status.busy": "2023-10-02T12:22:38.299517Z",
     "iopub.execute_input": "2023-10-02T12:22:38.300332Z",
     "iopub.status.idle": "2023-10-02T12:22:39.566202Z",
     "shell.execute_reply.started": "2023-10-02T12:22:38.300297Z",
     "shell.execute_reply": "2023-10-02T12:22:39.565124Z"
    },
    "trusted": true
   },
   "execution_count": null,
   "outputs": []
  },
  {
   "cell_type": "code",
   "source": [],
   "metadata": {},
   "execution_count": null,
   "outputs": []
  },
  {
   "cell_type": "markdown",
   "source": [
    "# Using MobileNet V2 Pre-trained Model"
   ],
   "metadata": {}
  },
  {
   "cell_type": "code",
   "source": [
    "# MobileNet V2 Classification 100%  224x224\n",
    "path1 =\"https://tfhub.dev/google/imagenet/mobilenet_v2_100_224/classification/5\"\n",
    "\n",
    "path=\"https://tfhub.dev/google/tf2-preview/mobilenet_v2/classification/4\"\n",
    "pretrained_model = hub.KerasLayer(path1, input_shape=(224,224,3), trainable=False)"
   ],
   "metadata": {
    "execution": {
     "iopub.status.busy": "2023-10-02T11:07:10.802459Z",
     "iopub.execute_input": "2023-10-02T11:07:10.802824Z",
     "iopub.status.idle": "2023-10-02T11:07:18.799869Z",
     "shell.execute_reply.started": "2023-10-02T11:07:10.802794Z",
     "shell.execute_reply": "2023-10-02T11:07:18.798983Z"
    },
    "trusted": true
   },
   "execution_count": null,
   "outputs": []
  },
  {
   "cell_type": "code",
   "source": [
    "num_class = 4\n",
    "pre_model = Sequential()\n",
    "pre_model.add(pretrained_model)\n",
    "pre_model.add(Dense(units=num_class,activation=\"softmax\"))\n",
    "\n",
    "pre_model.summary()"
   ],
   "metadata": {
    "execution": {
     "iopub.status.busy": "2023-10-02T11:07:57.503017Z",
     "iopub.execute_input": "2023-10-02T11:07:57.503327Z",
     "iopub.status.idle": "2023-10-02T11:07:57.629151Z",
     "shell.execute_reply.started": "2023-10-02T11:07:57.503302Z",
     "shell.execute_reply": "2023-10-02T11:07:57.628253Z"
    },
    "trusted": true
   },
   "execution_count": null,
   "outputs": []
  },
  {
   "cell_type": "code",
   "source": [
    "pre_model.compile(optimizer=\"adam\",\n",
    "              loss=\"sparse_categorical_crossentropy\",\n",
    "              metrics=[\"accuracy\"])\n",
    "history_1 = pre_model.fit(x_train_scaled, y_train ,\n",
    "          batch_size=32, epochs=15, validation_data = (x_test_scaled,y_test))"
   ],
   "metadata": {
    "execution": {
     "iopub.status.busy": "2023-10-02T11:08:04.304862Z",
     "iopub.execute_input": "2023-10-02T11:08:04.305244Z",
     "iopub.status.idle": "2023-10-02T11:08:53.122504Z",
     "shell.execute_reply.started": "2023-10-02T11:08:04.305215Z",
     "shell.execute_reply": "2023-10-02T11:08:53.12155Z"
    },
    "trusted": true
   },
   "execution_count": null,
   "outputs": []
  },
  {
   "cell_type": "markdown",
   "source": [
    "## Model Evaluation on Test & Train Data"
   ],
   "metadata": {}
  },
  {
   "cell_type": "code",
   "source": [
    "loss, acc = pre_model.evaluate(x_train_scaled,y_train)\n",
    "print(\"Loss on Train Data:\",loss)\n",
    "print(\"Accuracy on Train Data:\",acc)\n",
    "print()\n",
    "val_loss, val_acc = pre_model.evaluate(x_test_scaled,y_test)\n",
    "print(\"Loss on Test Data:\",val_loss)\n",
    "print(\"Accuracy on Test Data:\",val_acc)"
   ],
   "metadata": {
    "execution": {
     "iopub.status.busy": "2023-10-02T09:25:21.889095Z",
     "iopub.execute_input": "2023-10-02T09:25:21.889479Z",
     "iopub.status.idle": "2023-10-02T09:26:54.736534Z",
     "shell.execute_reply.started": "2023-10-02T09:25:21.88945Z",
     "shell.execute_reply": "2023-10-02T09:26:54.735316Z"
    },
    "trusted": true
   },
   "execution_count": null,
   "outputs": []
  },
  {
   "cell_type": "code",
   "source": [
    "acc = history_1.history[\"accuracy\"]\n",
    "val_acc = history_1.history[\"val_accuracy\"]\n",
    "\n",
    "loss = history_1.history[\"loss\"]\n",
    "val_loss = history_1.history[\"val_loss\"]"
   ],
   "metadata": {
    "execution": {
     "iopub.status.busy": "2023-10-02T09:27:35.514496Z",
     "iopub.execute_input": "2023-10-02T09:27:35.514853Z",
     "iopub.status.idle": "2023-10-02T09:27:35.520841Z",
     "shell.execute_reply.started": "2023-10-02T09:27:35.514826Z",
     "shell.execute_reply": "2023-10-02T09:27:35.5196Z"
    },
    "trusted": true
   },
   "execution_count": null,
   "outputs": []
  },
  {
   "cell_type": "markdown",
   "source": [
    "## Training and Validation Accuracy Plot"
   ],
   "metadata": {}
  },
  {
   "cell_type": "code",
   "source": [
    "EPOCHS=15\n",
    "plt.figure(figsize=(12,6))\n",
    "plt.subplot(1,2,1)\n",
    "plt.plot(range(EPOCHS),acc, label=\"Training Accuracy\")\n",
    "plt.plot(range(EPOCHS),val_acc, label=\"Validation Accuracy\")\n",
    "plt.legend(loc=\"lower right\")\n",
    "plt.title(\"Training and Validation Accuracy\")\n",
    "\n",
    "#plt.figure(figsize=(6,6))\n",
    "plt.subplot(1,2,2)\n",
    "plt.plot(range(EPOCHS),loss, label=\"Training Loss\")\n",
    "plt.plot(range(EPOCHS),val_loss, label=\"Validation Loss\")\n",
    "plt.legend(loc=\"lower right\")\n",
    "plt.title(\"Training and Validation Loss\")\n",
    "plt.show()"
   ],
   "metadata": {
    "execution": {
     "iopub.status.busy": "2023-10-02T09:27:48.562259Z",
     "iopub.execute_input": "2023-10-02T09:27:48.562642Z",
     "iopub.status.idle": "2023-10-02T09:27:49.037479Z",
     "shell.execute_reply.started": "2023-10-02T09:27:48.562613Z",
     "shell.execute_reply": "2023-10-02T09:27:49.036381Z"
    },
    "trusted": true
   },
   "execution_count": null,
   "outputs": []
  },
  {
   "cell_type": "markdown",
   "source": [
    "## Image Prediction on Test Data"
   ],
   "metadata": {}
  },
  {
   "cell_type": "code",
   "source": [
    "y_pred = pre_model.predict(x_test_scaled)"
   ],
   "metadata": {
    "execution": {
     "iopub.status.busy": "2023-10-02T09:29:08.245046Z",
     "iopub.execute_input": "2023-10-02T09:29:08.245459Z",
     "iopub.status.idle": "2023-10-02T09:29:16.376375Z",
     "shell.execute_reply.started": "2023-10-02T09:29:08.245417Z",
     "shell.execute_reply": "2023-10-02T09:29:16.375324Z"
    },
    "trusted": true
   },
   "execution_count": null,
   "outputs": []
  },
  {
   "cell_type": "code",
   "source": [
    "y_pred_test_label = [np.argmax(i) for i in y_pred]"
   ],
   "metadata": {
    "execution": {
     "iopub.status.busy": "2023-10-02T09:29:59.82277Z",
     "iopub.execute_input": "2023-10-02T09:29:59.823482Z",
     "iopub.status.idle": "2023-10-02T09:29:59.830008Z",
     "shell.execute_reply.started": "2023-10-02T09:29:59.823439Z",
     "shell.execute_reply": "2023-10-02T09:29:59.829119Z"
    },
    "trusted": true
   },
   "execution_count": null,
   "outputs": []
  },
  {
   "cell_type": "markdown",
   "source": [
    "## Actual and Predicted Images of Dogs"
   ],
   "metadata": {}
  },
  {
   "cell_type": "code",
   "source": [
    "y_pred_test_label[:10]  ## Predicted Images"
   ],
   "metadata": {
    "execution": {
     "iopub.status.busy": "2023-10-02T09:31:04.064757Z",
     "iopub.execute_input": "2023-10-02T09:31:04.065854Z",
     "iopub.status.idle": "2023-10-02T09:31:04.073705Z",
     "shell.execute_reply.started": "2023-10-02T09:31:04.065815Z",
     "shell.execute_reply": "2023-10-02T09:31:04.072263Z"
    },
    "trusted": true
   },
   "execution_count": null,
   "outputs": []
  },
  {
   "cell_type": "code",
   "source": [
    "y_test[:10]  ## Actual Images"
   ],
   "metadata": {
    "execution": {
     "iopub.status.busy": "2023-10-02T09:31:22.862203Z",
     "iopub.execute_input": "2023-10-02T09:31:22.862679Z",
     "iopub.status.idle": "2023-10-02T09:31:22.87127Z",
     "shell.execute_reply.started": "2023-10-02T09:31:22.862641Z",
     "shell.execute_reply": "2023-10-02T09:31:22.870156Z"
    },
    "trusted": true
   },
   "execution_count": null,
   "outputs": []
  },
  {
   "cell_type": "code",
   "source": [
    "plt.figure(figsize=(16,20))\n",
    "for i in range(0,20):\n",
    "    plt.subplot(5,4,i+1)\n",
    "    plt.imshow(x_test[i])\n",
    "    plt.title(f\"Actual:{class_labels[y_test[i]]}\\nPredicted:{class_labels[y_pred_test_label[i]]}\")\n",
    "    plt.axis(\"off\")"
   ],
   "metadata": {
    "execution": {
     "iopub.status.busy": "2023-10-02T09:33:42.270681Z",
     "iopub.execute_input": "2023-10-02T09:33:42.271069Z",
     "iopub.status.idle": "2023-10-02T09:33:44.720473Z",
     "shell.execute_reply.started": "2023-10-02T09:33:42.271041Z",
     "shell.execute_reply": "2023-10-02T09:33:44.718877Z"
    },
    "trusted": true
   },
   "execution_count": null,
   "outputs": []
  },
  {
   "cell_type": "markdown",
   "source": [
    "# ResNet V2 Pretrained Model"
   ],
   "metadata": {}
  },
  {
   "cell_type": "markdown",
   "source": [
    "### ResNet V-2 152 Layers "
   ],
   "metadata": {}
  },
  {
   "cell_type": "code",
   "source": [
    "path = \"https://tfhub.dev/google/imagenet/resnet_v2_152/classification/5\"  # 224x224x3\n",
    "resnet_pre_model = hub.KerasLayer(path,input_shape=(224,224,3),trainable=False)"
   ],
   "metadata": {
    "execution": {
     "iopub.status.busy": "2023-10-02T11:12:30.921683Z",
     "iopub.execute_input": "2023-10-02T11:12:30.922021Z",
     "iopub.status.idle": "2023-10-02T11:12:39.029223Z",
     "shell.execute_reply.started": "2023-10-02T11:12:30.921996Z",
     "shell.execute_reply": "2023-10-02T11:12:39.028249Z"
    },
    "trusted": true
   },
   "execution_count": null,
   "outputs": []
  },
  {
   "cell_type": "code",
   "source": [
    "num_class = 4\n",
    "resnet_model = Sequential()\n",
    "resnet_model.add(resnet_pre_model)\n",
    "resnet_model.add(Dense(units=num_class, activation=\"softmax\"))\n",
    "\n",
    "resnet_model.summary()"
   ],
   "metadata": {
    "execution": {
     "iopub.status.busy": "2023-10-02T11:12:39.031001Z",
     "iopub.execute_input": "2023-10-02T11:12:39.031388Z",
     "iopub.status.idle": "2023-10-02T11:12:40.179476Z",
     "shell.execute_reply.started": "2023-10-02T11:12:39.031361Z",
     "shell.execute_reply": "2023-10-02T11:12:40.178606Z"
    },
    "trusted": true
   },
   "execution_count": null,
   "outputs": []
  },
  {
   "cell_type": "code",
   "source": [
    "resnet_model.compile(optimizer=\"adam\",\n",
    "              loss=\"sparse_categorical_crossentropy\",\n",
    "              metrics=[\"accuracy\"])\n",
    "history_3 = resnet_model.fit(x_train_scaled, y_train ,\n",
    "          batch_size=32, epochs=4, validation_data=(x_test_scaled, y_test))"
   ],
   "metadata": {
    "execution": {
     "iopub.status.busy": "2023-10-02T11:12:43.325918Z",
     "iopub.execute_input": "2023-10-02T11:12:43.327268Z",
     "iopub.status.idle": "2023-10-02T12:00:18.978421Z",
     "shell.execute_reply.started": "2023-10-02T11:12:43.327222Z",
     "shell.execute_reply": "2023-10-02T12:00:18.97678Z"
    },
    "trusted": true
   },
   "execution_count": null,
   "outputs": []
  },
  {
   "cell_type": "markdown",
   "source": [
    "## Model Evaluation on Test and Train Data"
   ],
   "metadata": {}
  },
  {
   "cell_type": "code",
   "source": [
    "loss, acc = resnet_model.evaluate(x_train_scaled,y_train)\n",
    "print(\"Loss on Train Data:\",loss)\n",
    "print(\"Accuracy on Train Data:\",acc)\n",
    "print()\n",
    "val_loss, val_acc = resnet_model.evaluate(x_test_scaled,y_test)\n",
    "print(\"Loss on Test Data:\",val_loss)\n",
    "print(\"Accuracy on Test Data:\",val_acc)"
   ],
   "metadata": {
    "execution": {
     "iopub.status.busy": "2023-10-02T12:02:18.192616Z",
     "iopub.execute_input": "2023-10-02T12:02:18.192994Z"
    },
    "trusted": true
   },
   "execution_count": null,
   "outputs": []
  },
  {
   "cell_type": "code",
   "source": [
    "y_pred = resnet_model.predict(x_test_scaled)\n",
    "y_pred_test_label = [np.argmax(i) for i in y_pred]\n",
    "\n",
    "print(\"Actual Label:\",y_test[:10])\n",
    "print(\"Predicted label:\",y_pred_test_label[:10])"
   ],
   "metadata": {},
   "execution_count": null,
   "outputs": []
  },
  {
   "cell_type": "markdown",
   "source": [
    "## Compare Actual and Predicted Images"
   ],
   "metadata": {}
  },
  {
   "cell_type": "code",
   "source": [
    "plt.figure(figsize=(16,20))\n",
    "for i in range(0,20):\n",
    "    plt.subplot(5,4,i+1)\n",
    "    plt.imshow(x_test[i])\n",
    "    plt.title(f\"Actual:{class_labels[y_test[i]]}\\nPredicted:{class_labels[y_pred_test_label[i]]}\")\n",
    "    plt.axis(\"off\")"
   ],
   "metadata": {},
   "execution_count": null,
   "outputs": []
  },
  {
   "cell_type": "markdown",
   "source": [
    "# EfficientNet Pre-trained Model"
   ],
   "metadata": {}
  },
  {
   "cell_type": "code",
   "source": [
    "path = \"https://tfhub.dev/google/efficientnet/b0/classification/1\" # 224x224x3\n",
    "efficient_model = hub.KerasLayer(path,input_shape=(224,224,3),trainable=False)\n",
    "\n",
    "num_class = 4\n",
    "eff_model = Sequential()\n",
    "eff_model.add(efficient_model)\n",
    "eff_model.add(Dense(units=num_class, activation=\"softmax\"))\n",
    "\n",
    "eff_model.summary()"
   ],
   "metadata": {
    "execution": {
     "iopub.status.busy": "2023-10-02T12:22:58.178854Z",
     "iopub.execute_input": "2023-10-02T12:22:58.179201Z",
     "iopub.status.idle": "2023-10-02T12:23:08.494948Z",
     "shell.execute_reply.started": "2023-10-02T12:22:58.179172Z",
     "shell.execute_reply": "2023-10-02T12:23:08.493982Z"
    },
    "trusted": true
   },
   "execution_count": null,
   "outputs": []
  },
  {
   "cell_type": "code",
   "source": [
    "eff_model.compile(optimizer=\"adam\",\n",
    "              loss=\"sparse_categorical_crossentropy\",\n",
    "              metrics=[\"accuracy\"])\n",
    "history_4 = eff_model.fit(x_train_scaled , y_train ,\n",
    "          batch_size=32, epochs=5, validation_data=(x_test_scaled,y_test))"
   ],
   "metadata": {
    "execution": {
     "iopub.status.busy": "2023-10-02T12:23:13.47572Z",
     "iopub.execute_input": "2023-10-02T12:23:13.476424Z",
     "iopub.status.idle": "2023-10-02T12:24:03.376851Z",
     "shell.execute_reply.started": "2023-10-02T12:23:13.47639Z",
     "shell.execute_reply": "2023-10-02T12:24:03.375915Z"
    },
    "trusted": true
   },
   "execution_count": null,
   "outputs": []
  },
  {
   "cell_type": "code",
   "source": [
    "loss, acc = eff_model.evaluate(x_train_scaled,y_train)\n",
    "print(\"Loss on Train Data:\",loss)\n",
    "print(\"Accuracy on Train Data:\",acc)\n",
    "print()\n",
    "val_loss, val_acc = eff_model.evaluate(x_test_scaled,y_test)\n",
    "print(\"Loss on Test Data:\",val_loss)\n",
    "print(\"Accuracy on Test Data:\",val_acc)"
   ],
   "metadata": {
    "execution": {
     "iopub.status.busy": "2023-10-02T10:07:00.228713Z",
     "iopub.execute_input": "2023-10-02T10:07:00.229187Z"
    },
    "trusted": true
   },
   "execution_count": null,
   "outputs": []
  },
  {
   "cell_type": "code",
   "source": [
    "y_pred = eff_model.predict(x_test_scaled)\n",
    "y_pred_test_label = [np.argmax(i) for i in y_pred]\n",
    "\n",
    "print(\"Actual Label:\",y_test[:10])\n",
    "print(\"Predicted label:\",y_pred_test_label[:10])"
   ],
   "metadata": {
    "execution": {
     "iopub.status.busy": "2023-10-02T12:24:55.792355Z",
     "iopub.execute_input": "2023-10-02T12:24:55.792849Z",
     "iopub.status.idle": "2023-10-02T12:24:57.988472Z",
     "shell.execute_reply.started": "2023-10-02T12:24:55.79278Z",
     "shell.execute_reply": "2023-10-02T12:24:57.987398Z"
    },
    "trusted": true
   },
   "execution_count": null,
   "outputs": []
  },
  {
   "cell_type": "markdown",
   "source": [
    "## Compare Actual and predicted Labels"
   ],
   "metadata": {}
  },
  {
   "cell_type": "code",
   "source": [
    "plt.figure(figsize=(16,20))\n",
    "for i in range(0,20):\n",
    "    plt.subplot(5,4,i+1)\n",
    "    plt.imshow(x_test[i])\n",
    "    plt.title(f\"Actual:{class_labels[y_test[i]]}\\nPredicted:{class_labels[y_pred_test_label[i]]}\")\n",
    "    plt.axis(\"off\")"
   ],
   "metadata": {
    "execution": {
     "iopub.status.busy": "2023-10-02T12:25:24.334915Z",
     "iopub.execute_input": "2023-10-02T12:25:24.33527Z",
     "iopub.status.idle": "2023-10-02T12:25:26.588733Z",
     "shell.execute_reply.started": "2023-10-02T12:25:24.335242Z",
     "shell.execute_reply": "2023-10-02T12:25:26.58758Z"
    },
    "trusted": true
   },
   "execution_count": null,
   "outputs": []
  },
  {
   "cell_type": "code",
   "source": [],
   "metadata": {},
   "execution_count": null,
   "outputs": []
  },
  {
   "cell_type": "code",
   "source": [],
   "metadata": {},
   "execution_count": null,
   "outputs": []
  }
 ]
}
